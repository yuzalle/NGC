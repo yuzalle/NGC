{
 "cells": [
  {
   "cell_type": "markdown",
   "metadata": {},
   "source": [
    "# Task 1"
   ]
  },
  {
   "cell_type": "code",
   "execution_count": 30,
   "metadata": {},
   "outputs": [
    {
     "name": "stdout",
     "output_type": "stream",
     "text": [
      "There are 63 unique id\n"
     ]
    }
   ],
   "source": [
    "# Task 1 \n",
    "# How many unique customer_id from the list?\n",
    "customer_id = ['B818', 'A461', 'A092', 'A082', 'B341', \n",
    "               'A005', 'A092', 'A461','B219', 'B904', \n",
    "               'A901', 'A083', 'B904', 'A092', 'B341', \n",
    "               'B821','B341', 'B821', 'B904', 'B818', \n",
    "               'A901', 'A083', 'B818', 'A082','B219', \n",
    "               'B219', 'A083', 'A901', 'A082', 'B341', \n",
    "               'B341', 'A083','A082', 'B219', 'B439', \n",
    "               'A461', 'A005', 'A901', 'B341', 'A082',\n",
    "               'A083', 'A461', 'A083', 'A901', 'A461', \n",
    "               'A083', 'A082', 'A083','B341', 'A901', \n",
    "               'A082', 'A461', 'B219', 'A083', 'B818', \n",
    "               'B821','A092', 'B341', 'A461', 'A092', \n",
    "               'A083', 'B821', 'A092']\n",
    "\n",
    "# Print Unique Id\n",
    "id = len(customer_id)\n",
    "print(f\"There are {id} unique id\")"
   ]
  },
  {
   "cell_type": "markdown",
   "metadata": {},
   "source": [
    "# Task 2"
   ]
  },
  {
   "cell_type": "code",
   "execution_count": 40,
   "metadata": {},
   "outputs": [
    {
     "name": "stdout",
     "output_type": "stream",
     "text": [
      "[1, 4, 9, 16, 25, 36, 49, 64, 81, 100]\n",
      "Solution a:\n",
      "16\n",
      "Solution b:\n",
      "[36, 49, 64, 81]\n",
      "Solution c:\n",
      "[100, 81, 64, 49, 36, 25, 16, 9, 4, 1]\n"
     ]
    }
   ],
   "source": [
    "# Task 2\n",
    "# Make Output\n",
    "# a = 16\n",
    "# b = [36, 49, 64, 81]\n",
    "# c = [100, 81, 64, 49, 36, 25, 16, 9, 4, 1]\n",
    "\n",
    "Data = [1, 4, 9, 16, 25, 36, 49,  64, 81, 100]\n",
    "print(Data)\n",
    "\n",
    "# Solution a\n",
    "print(\"Solution a:\")\n",
    "print(Data[3])\n",
    "\n",
    "# Solution b\n",
    "print(\"Solution b:\")\n",
    "print(Data[5:9])\n",
    "\n",
    "# Solution c\n",
    "print(\"Solution c:\")\n",
    "Data.reverse()\n",
    "print(Data)"
   ]
  },
  {
   "cell_type": "markdown",
   "metadata": {},
   "source": [
    "# Task 3"
   ]
  },
  {
   "cell_type": "code",
   "execution_count": 47,
   "metadata": {},
   "outputs": [
    {
     "name": "stdout",
     "output_type": "stream",
     "text": [
      "dict_keys(['Nanggroe Aceh Darussalam', 'Sumatera Selatan', 'Kalimantan Barat', 'Jawa Timur', 'Sulawesi Selatan', 'Maluku'])\n",
      "{'Nanggroe Aceh Darussalam': 'Aceh', 'Sumatera Selatan': 'Palembang', 'Kalimantan Barat': 'Pontianak', 'Jawa Timur': 'Surabaya', 'Sulawesi Selatan': 'Makassar', 'Maluku': 'Ambon'}\n"
     ]
    }
   ],
   "source": [
    "# Task 3\n",
    "# a. Get list of Keys in this Dict\n",
    "# b. Change 'Jawa Timur' value from 'Madiun'  to 'Surabaya'\n",
    "\n",
    "provinsi = {'Nanggroe Aceh Darussalam': 'Aceh',\n",
    "            'Sumatera Selatan': 'Palembang',\n",
    "            'Kalimantan Barat': 'Pontianak',\n",
    "            'Jawa Timur': 'Madiun',\n",
    "            'Sulawesi Selatan': 'Makassar',\n",
    "            'Maluku': 'Ambon'}\n",
    "\n",
    "# Solution a\n",
    "print(provinsi.keys())\n",
    "\n",
    "# Solution b\n",
    "provinsi['Jawa Timur'] = 'Surabaya'\n",
    "print(provinsi)"
   ]
  }
 ],
 "metadata": {
  "kernelspec": {
   "display_name": "base",
   "language": "python",
   "name": "python3"
  },
  "language_info": {
   "codemirror_mode": {
    "name": "ipython",
    "version": 3
   },
   "file_extension": ".py",
   "mimetype": "text/x-python",
   "name": "python",
   "nbconvert_exporter": "python",
   "pygments_lexer": "ipython3",
   "version": "3.9.19"
  }
 },
 "nbformat": 4,
 "nbformat_minor": 2
}
